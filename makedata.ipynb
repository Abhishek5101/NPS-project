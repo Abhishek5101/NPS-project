{
 "cells": [
  {
   "cell_type": "code",
   "execution_count": 397,
   "metadata": {},
   "outputs": [],
   "source": [
    "import pandas as pd\n",
    "import matplotlib.pyplot as plt\n",
    "import seaborn as sns\n",
    "import numpy as np\n",
    "%matplotlib inline\n"
   ]
  },
  {
   "cell_type": "code",
   "execution_count": 398,
   "metadata": {},
   "outputs": [],
   "source": [
    "df = pd.read_csv(\"2017/survey.csv\")"
   ]
  },
  {
   "cell_type": "code",
   "execution_count": 399,
   "metadata": {},
   "outputs": [
    {
     "data": {
      "text/plain": [
       "1453"
      ]
     },
     "execution_count": 399,
     "metadata": {},
     "output_type": "execute_result"
    }
   ],
   "source": [
    "len(df)"
   ]
  },
  {
   "cell_type": "code",
   "execution_count": 400,
   "metadata": {},
   "outputs": [],
   "source": [
    "df = df.rename(columns={\"Rating (Num)\": \"rating\", \"Schedule Pacing\": \"pacing\", \"Location\": \"location\", \"Week\":\"week\", \"ID\":\"id\", \"Track\":\"track\"})"
   ]
  },
  {
   "cell_type": "code",
   "execution_count": 401,
   "metadata": {},
   "outputs": [
    {
     "data": {
      "text/plain": [
       "Index(['id', 'location', 'track', 'week', 'rating', 'pacing'], dtype='object')"
      ]
     },
     "execution_count": 401,
     "metadata": {},
     "output_type": "execute_result"
    }
   ],
   "source": [
    "df.columns"
   ]
  },
  {
   "cell_type": "code",
   "execution_count": 402,
   "metadata": {},
   "outputs": [
    {
     "data": {
      "text/plain": [
       "(1453, 6)"
      ]
     },
     "execution_count": 402,
     "metadata": {},
     "output_type": "execute_result"
    }
   ],
   "source": [
    "df.shape"
   ]
  },
  {
   "cell_type": "code",
   "execution_count": 403,
   "metadata": {},
   "outputs": [],
   "source": [
    "## Data Wrangling\n",
    "df = df[df['rating'] != '#ERROR!']\n"
   ]
  },
  {
   "cell_type": "code",
   "execution_count": 404,
   "metadata": {},
   "outputs": [],
   "source": [
    "category_rating = df.loc[:, 'rating'].astype(int)\n"
   ]
  },
  {
   "cell_type": "markdown",
   "metadata": {},
   "source": [
    "### Q.1 How much data do we have for each category per week?"
   ]
  },
  {
   "cell_type": "code",
   "execution_count": 405,
   "metadata": {},
   "outputs": [
    {
     "data": {
      "text/plain": [
       "<matplotlib.axes._subplots.AxesSubplot at 0x12c8becd0>"
      ]
     },
     "execution_count": 405,
     "metadata": {},
     "output_type": "execute_result"
    },
    {
     "data": {
      "image/png": "[encoded data removed]",
      "text/plain": [
       "<Figure size 432x288 with 1 Axes>"
      ]
     },
     "metadata": {
      "needs_background": "light"
     },
     "output_type": "display_data"
    }
   ],
   "source": [
    "## Using built in Pandas Group By function\n",
    "df.groupby('week').count().plot()"
   ]
  },
  {
   "cell_type": "markdown",
   "metadata": {},
   "source": [
    "####  Answer-->The further ahead we are in time, the less data we have. Data based on the last or last two weeks may not be reliable hence I will prefer to do time-independant data analysis ahead."
   ]
  },
  {
   "cell_type": "code",
   "execution_count": 406,
   "metadata": {},
   "outputs": [],
   "source": [
    "## Classifying promoters, passives and detractors\n",
    "def nps_classifier(rating):\n",
    "    ''' 0's have been counted as Detractors.\n",
    "    '''\n",
    "    if rating < 0 or rating > 10:\n",
    "        raise ValueError('Number out of bounds')\n",
    "    \n",
    "    if 9 <= rating <= 10:\n",
    "        return 'Promoter'\n",
    "    \n",
    "    elif 7 <= rating <= 8:\n",
    "        return 'Passive'\n",
    "    \n",
    "    else:\n",
    "        return 'Detractor'"
   ]
  },
  {
   "cell_type": "code",
   "execution_count": 417,
   "metadata": {},
   "outputs": [
    {
     "data": {
      "text/html": [
       "<div>\n",
       "<style scoped>\n",
       "    .dataframe tbody tr th:only-of-type {\n",
       "        vertical-align: middle;\n",
       "    }\n",
       "\n",
       "    .dataframe tbody tr th {\n",
       "        vertical-align: top;\n",
       "    }\n",
       "\n",
       "    .dataframe thead th {\n",
       "        text-align: right;\n",
       "    }\n",
       "</style>\n",
       "<table border=\"1\" class=\"dataframe\">\n",
       "  <thead>\n",
       "    <tr style=\"text-align: right;\">\n",
       "      <th></th>\n",
       "      <th>id</th>\n",
       "      <th>location</th>\n",
       "      <th>track</th>\n",
       "      <th>week</th>\n",
       "      <th>rating</th>\n",
       "      <th>pacing</th>\n",
       "      <th>category</th>\n",
       "    </tr>\n",
       "  </thead>\n",
       "  <tbody>\n",
       "    <tr>\n",
       "      <th>0</th>\n",
       "      <td>134</td>\n",
       "      <td>San Francisco</td>\n",
       "      <td>Apps, Explorer</td>\n",
       "      <td>Week 1</td>\n",
       "      <td>3</td>\n",
       "      <td>Just right</td>\n",
       "      <td>Detractor</td>\n",
       "    </tr>\n",
       "    <tr>\n",
       "      <th>1</th>\n",
       "      <td>36</td>\n",
       "      <td>Los Angeles</td>\n",
       "      <td>Apps</td>\n",
       "      <td>Week 1</td>\n",
       "      <td>4</td>\n",
       "      <td>A little too fast</td>\n",
       "      <td>Detractor</td>\n",
       "    </tr>\n",
       "    <tr>\n",
       "      <th>2</th>\n",
       "      <td>117</td>\n",
       "      <td>San Francisco</td>\n",
       "      <td>Games</td>\n",
       "      <td>Week 1</td>\n",
       "      <td>4</td>\n",
       "      <td>Way too slow</td>\n",
       "      <td>Detractor</td>\n",
       "    </tr>\n",
       "    <tr>\n",
       "      <th>3</th>\n",
       "      <td>253</td>\n",
       "      <td>NaN</td>\n",
       "      <td>NaN</td>\n",
       "      <td>Week 2</td>\n",
       "      <td>4</td>\n",
       "      <td>A little too fast</td>\n",
       "      <td>Detractor</td>\n",
       "    </tr>\n",
       "    <tr>\n",
       "      <th>4</th>\n",
       "      <td>350</td>\n",
       "      <td>New York City</td>\n",
       "      <td>Apps, Explorer</td>\n",
       "      <td>Week 1</td>\n",
       "      <td>4</td>\n",
       "      <td>Just right</td>\n",
       "      <td>Detractor</td>\n",
       "    </tr>\n",
       "    <tr>\n",
       "      <th>...</th>\n",
       "      <td>...</td>\n",
       "      <td>...</td>\n",
       "      <td>...</td>\n",
       "      <td>...</td>\n",
       "      <td>...</td>\n",
       "      <td>...</td>\n",
       "      <td>...</td>\n",
       "    </tr>\n",
       "    <tr>\n",
       "      <th>1448</th>\n",
       "      <td>1495</td>\n",
       "      <td>New York City</td>\n",
       "      <td>Apps, Explorer</td>\n",
       "      <td>Week 7</td>\n",
       "      <td>10</td>\n",
       "      <td>Just right</td>\n",
       "      <td>Promoter</td>\n",
       "    </tr>\n",
       "    <tr>\n",
       "      <th>1449</th>\n",
       "      <td>1496</td>\n",
       "      <td>New York City</td>\n",
       "      <td>Apps, Explorer</td>\n",
       "      <td>Week 7</td>\n",
       "      <td>8</td>\n",
       "      <td>Just right</td>\n",
       "      <td>Passive</td>\n",
       "    </tr>\n",
       "    <tr>\n",
       "      <th>1450</th>\n",
       "      <td>1497</td>\n",
       "      <td>New York City</td>\n",
       "      <td>Apps</td>\n",
       "      <td>Week 7</td>\n",
       "      <td>10</td>\n",
       "      <td>Just right</td>\n",
       "      <td>Promoter</td>\n",
       "    </tr>\n",
       "    <tr>\n",
       "      <th>1451</th>\n",
       "      <td>1498</td>\n",
       "      <td>New York City</td>\n",
       "      <td>Apps, Explorer</td>\n",
       "      <td>Week 7</td>\n",
       "      <td>1</td>\n",
       "      <td>A little too slow</td>\n",
       "      <td>Detractor</td>\n",
       "    </tr>\n",
       "    <tr>\n",
       "      <th>1452</th>\n",
       "      <td>1499</td>\n",
       "      <td>New York City</td>\n",
       "      <td>Apps</td>\n",
       "      <td>Week 5</td>\n",
       "      <td>8</td>\n",
       "      <td>Just right</td>\n",
       "      <td>Passive</td>\n",
       "    </tr>\n",
       "  </tbody>\n",
       "</table>\n",
       "<p>1450 rows × 7 columns</p>\n",
       "</div>"
      ],
      "text/plain": [
       "        id       location           track    week rating             pacing  \\\n",
       "0      134  San Francisco  Apps, Explorer  Week 1      3         Just right   \n",
       "1       36    Los Angeles            Apps  Week 1      4  A little too fast   \n",
       "2      117  San Francisco           Games  Week 1      4       Way too slow   \n",
       "3      253            NaN             NaN  Week 2      4  A little too fast   \n",
       "4      350  New York City  Apps, Explorer  Week 1      4         Just right   \n",
       "...    ...            ...             ...     ...    ...                ...   \n",
       "1448  1495  New York City  Apps, Explorer  Week 7     10         Just right   \n",
       "1449  1496  New York City  Apps, Explorer  Week 7      8         Just right   \n",
       "1450  1497  New York City            Apps  Week 7     10         Just right   \n",
       "1451  1498  New York City  Apps, Explorer  Week 7      1  A little too slow   \n",
       "1452  1499  New York City            Apps  Week 5      8         Just right   \n",
       "\n",
       "       category  \n",
       "0     Detractor  \n",
       "1     Detractor  \n",
       "2     Detractor  \n",
       "3     Detractor  \n",
       "4     Detractor  \n",
       "...         ...  \n",
       "1448   Promoter  \n",
       "1449    Passive  \n",
       "1450   Promoter  \n",
       "1451  Detractor  \n",
       "1452    Passive  \n",
       "\n",
       "[1450 rows x 7 columns]"
      ]
     },
     "execution_count": 417,
     "metadata": {},
     "output_type": "execute_result"
    }
   ],
   "source": [
    "## Create a category column based on the above classification\n",
    "df['category'] = category_rating.apply(nps_classifier)\n",
    "\n",
    "df"
   ]
  },
  {
   "cell_type": "code",
   "execution_count": 408,
   "metadata": {},
   "outputs": [
    {
     "name": "stdout",
     "output_type": "stream",
     "text": [
      "Promoter     760\n",
      "Passive      569\n",
      "Detractor    121\n",
      "Name: category, dtype: int64\n"
     ]
    },
    {
     "data": {
      "text/plain": [
       "44.06896551724138"
      ]
     },
     "execution_count": 408,
     "metadata": {},
     "output_type": "execute_result"
    }
   ],
   "source": [
    "def nps_calculator(series):\n",
    "    counts = series.value_counts()\n",
    "    print(counts)\n",
    "    for each in ['Promoter', 'Passive', 'Detractor']:\n",
    "        if each not in counts:\n",
    "            counts[each] = 0\n",
    "    difference_promoter_and_detractor = (counts['Promoter'] - counts['Detractor'])\n",
    "    nps = difference_promoter_and_detractor / sum(counts) * 100\n",
    "    return nps\n",
    "\n",
    "nps_calculator(df['category'])\n"
   ]
  },
  {
   "cell_type": "markdown",
   "metadata": {},
   "source": [
    "### How many more promoters are there than detractors across our 2017 data?\n"
   ]
  },
  {
   "cell_type": "markdown",
   "metadata": {},
   "source": [
    "### Q. 2 What percentage of total students are promoters, passives, and detractors?"
   ]
  },
  {
   "cell_type": "code",
   "execution_count": 409,
   "metadata": {},
   "outputs": [
    {
     "name": "stdout",
     "output_type": "stream",
     "text": [
      "Promoter     760\n",
      "Passive      569\n",
      "Detractor    121\n",
      "Name: category, dtype: int64\n"
     ]
    }
   ],
   "source": [
    "total = nps_calculator(df['category'])"
   ]
  },
  {
   "cell_type": "code",
   "execution_count": 410,
   "metadata": {},
   "outputs": [
    {
     "data": {
      "image/png": "[encoded data removed]",
      "text/plain": [
       "<Figure size 432x288 with 1 Axes>"
      ]
     },
     "metadata": {},
     "output_type": "display_data"
    }
   ],
   "source": [
    "exp_vals = [760,569,121]\n",
    "exp_labels = [\"Promoter\", \"Passive\", \"Detractor\"]\n",
    "plt.axis(\"equal\")\n",
    "plt.pie(exp_vals,labels=exp_labels, shadow=True, autopct='%1.1f%%',radius=1.5,explode=[0,0.1,0.2])\n",
    "plt.show()\n"
   ]
  },
  {
   "cell_type": "markdown",
   "metadata": {},
   "source": [
    "#### Answer\n",
    "#### Promoters - 52.4%,\n",
    "#### Passives - 39.2%,\n",
    "#### Detractors- 8.3%"
   ]
  },
  {
   "cell_type": "markdown",
   "metadata": {},
   "source": [
    "### Q.3 What are the NPS ratings location wise and Track wise?"
   ]
  },
  {
   "cell_type": "code",
   "execution_count": 411,
   "metadata": {},
   "outputs": [
    {
     "data": {
      "text/html": [
       "<div>\n",
       "<style scoped>\n",
       "    .dataframe tbody tr th:only-of-type {\n",
       "        vertical-align: middle;\n",
       "    }\n",
       "\n",
       "    .dataframe tbody tr th {\n",
       "        vertical-align: top;\n",
       "    }\n",
       "\n",
       "    .dataframe thead th {\n",
       "        text-align: right;\n",
       "    }\n",
       "</style>\n",
       "<table border=\"1\" class=\"dataframe\">\n",
       "  <thead>\n",
       "    <tr style=\"text-align: right;\">\n",
       "      <th>category</th>\n",
       "      <th>Detractor</th>\n",
       "      <th>Passive</th>\n",
       "      <th>Promoter</th>\n",
       "    </tr>\n",
       "    <tr>\n",
       "      <th>location</th>\n",
       "      <th></th>\n",
       "      <th></th>\n",
       "      <th></th>\n",
       "    </tr>\n",
       "  </thead>\n",
       "  <tbody>\n",
       "    <tr>\n",
       "      <th>Atlanta</th>\n",
       "      <td>0.000000</td>\n",
       "      <td>0.272727</td>\n",
       "      <td>0.727273</td>\n",
       "    </tr>\n",
       "    <tr>\n",
       "      <th>Beijing</th>\n",
       "      <td>0.000000</td>\n",
       "      <td>0.320513</td>\n",
       "      <td>0.679487</td>\n",
       "    </tr>\n",
       "    <tr>\n",
       "      <th>Chicago</th>\n",
       "      <td>0.057143</td>\n",
       "      <td>0.414286</td>\n",
       "      <td>0.528571</td>\n",
       "    </tr>\n",
       "    <tr>\n",
       "      <th>Hong Kong</th>\n",
       "      <td>0.272727</td>\n",
       "      <td>0.636364</td>\n",
       "      <td>0.090909</td>\n",
       "    </tr>\n",
       "    <tr>\n",
       "      <th>Los Angeles</th>\n",
       "      <td>0.047170</td>\n",
       "      <td>0.311321</td>\n",
       "      <td>0.641509</td>\n",
       "    </tr>\n",
       "    <tr>\n",
       "      <th>New York City</th>\n",
       "      <td>0.106061</td>\n",
       "      <td>0.412121</td>\n",
       "      <td>0.481818</td>\n",
       "    </tr>\n",
       "    <tr>\n",
       "      <th>Oakland</th>\n",
       "      <td>0.042553</td>\n",
       "      <td>0.382979</td>\n",
       "      <td>0.574468</td>\n",
       "    </tr>\n",
       "    <tr>\n",
       "      <th>Redwood City</th>\n",
       "      <td>0.086207</td>\n",
       "      <td>0.396552</td>\n",
       "      <td>0.517241</td>\n",
       "    </tr>\n",
       "    <tr>\n",
       "      <th>San Francisco</th>\n",
       "      <td>0.086111</td>\n",
       "      <td>0.375000</td>\n",
       "      <td>0.538889</td>\n",
       "    </tr>\n",
       "    <tr>\n",
       "      <th>Santa Clara</th>\n",
       "      <td>0.064677</td>\n",
       "      <td>0.472637</td>\n",
       "      <td>0.462687</td>\n",
       "    </tr>\n",
       "    <tr>\n",
       "      <th>Tokyo</th>\n",
       "      <td>0.138462</td>\n",
       "      <td>0.353846</td>\n",
       "      <td>0.507692</td>\n",
       "    </tr>\n",
       "    <tr>\n",
       "      <th>Washington DC</th>\n",
       "      <td>0.127660</td>\n",
       "      <td>0.446809</td>\n",
       "      <td>0.425532</td>\n",
       "    </tr>\n",
       "  </tbody>\n",
       "</table>\n",
       "</div>"
      ],
      "text/plain": [
       "category       Detractor   Passive  Promoter\n",
       "location                                    \n",
       "Atlanta         0.000000  0.272727  0.727273\n",
       "Beijing         0.000000  0.320513  0.679487\n",
       "Chicago         0.057143  0.414286  0.528571\n",
       "Hong Kong       0.272727  0.636364  0.090909\n",
       "Los Angeles     0.047170  0.311321  0.641509\n",
       "New York City   0.106061  0.412121  0.481818\n",
       "Oakland         0.042553  0.382979  0.574468\n",
       "Redwood City    0.086207  0.396552  0.517241\n",
       "San Francisco   0.086111  0.375000  0.538889\n",
       "Santa Clara     0.064677  0.472637  0.462687\n",
       "Tokyo           0.138462  0.353846  0.507692\n",
       "Washington DC   0.127660  0.446809  0.425532"
      ]
     },
     "execution_count": 411,
     "metadata": {},
     "output_type": "execute_result"
    }
   ],
   "source": [
    "pd.crosstab(df['location'], df['category'], normalize=\"index\")\n"
   ]
  },
  {
   "cell_type": "markdown",
   "metadata": {},
   "source": [
    "#### Answer\n",
    "#### Atlanta - Highest Promoter\n",
    "#### Hong Kong - Highest Detractor"
   ]
  },
  {
   "cell_type": "code",
   "execution_count": 418,
   "metadata": {},
   "outputs": [
    {
     "data": {
      "text/html": [
       "<div>\n",
       "<style scoped>\n",
       "    .dataframe tbody tr th:only-of-type {\n",
       "        vertical-align: middle;\n",
       "    }\n",
       "\n",
       "    .dataframe tbody tr th {\n",
       "        vertical-align: top;\n",
       "    }\n",
       "\n",
       "    .dataframe thead th {\n",
       "        text-align: right;\n",
       "    }\n",
       "</style>\n",
       "<table border=\"1\" class=\"dataframe\">\n",
       "  <thead>\n",
       "    <tr style=\"text-align: right;\">\n",
       "      <th>category</th>\n",
       "      <th>Detractor</th>\n",
       "      <th>Passive</th>\n",
       "      <th>Promoter</th>\n",
       "    </tr>\n",
       "    <tr>\n",
       "      <th>track</th>\n",
       "      <th></th>\n",
       "      <th></th>\n",
       "      <th></th>\n",
       "    </tr>\n",
       "  </thead>\n",
       "  <tbody>\n",
       "    <tr>\n",
       "      <th>Apps</th>\n",
       "      <td>0.089552</td>\n",
       "      <td>0.407577</td>\n",
       "      <td>0.502870</td>\n",
       "    </tr>\n",
       "    <tr>\n",
       "      <th>Apps, Explorer</th>\n",
       "      <td>0.107143</td>\n",
       "      <td>0.486607</td>\n",
       "      <td>0.406250</td>\n",
       "    </tr>\n",
       "    <tr>\n",
       "      <th>Games</th>\n",
       "      <td>0.043269</td>\n",
       "      <td>0.317308</td>\n",
       "      <td>0.639423</td>\n",
       "    </tr>\n",
       "    <tr>\n",
       "      <th>Games, Explorer</th>\n",
       "      <td>0.000000</td>\n",
       "      <td>0.279070</td>\n",
       "      <td>0.720930</td>\n",
       "    </tr>\n",
       "    <tr>\n",
       "      <th>VR</th>\n",
       "      <td>0.033333</td>\n",
       "      <td>0.200000</td>\n",
       "      <td>0.766667</td>\n",
       "    </tr>\n",
       "  </tbody>\n",
       "</table>\n",
       "</div>"
      ],
      "text/plain": [
       "category         Detractor   Passive  Promoter\n",
       "track                                         \n",
       "Apps              0.089552  0.407577  0.502870\n",
       "Apps, Explorer    0.107143  0.486607  0.406250\n",
       "Games             0.043269  0.317308  0.639423\n",
       "Games, Explorer   0.000000  0.279070  0.720930\n",
       "VR                0.033333  0.200000  0.766667"
      ]
     },
     "execution_count": 418,
     "metadata": {},
     "output_type": "execute_result"
    }
   ],
   "source": [
    "#### will normalize over each row\n",
    "pd.crosstab(df['track'], df['category'], normalize=\"index\")\n"
   ]
  },
  {
   "cell_type": "markdown",
   "metadata": {},
   "source": [
    "#### Answer\n",
    "\n",
    "#### VR - Highest Promoter\n",
    "#### Apps, Explorer - Highest Detractor"
   ]
  },
  {
   "cell_type": "markdown",
   "metadata": {},
   "source": [
    "### Does the student experience get better the longer that they are enrolled at the Summer Academy?\n"
   ]
  },
  {
   "cell_type": "markdown",
   "metadata": {},
   "source": [
    "### Q.4 How does the overall student experience change over time?"
   ]
  },
  {
   "cell_type": "code",
   "execution_count": 413,
   "metadata": {},
   "outputs": [
    {
     "name": "stdout",
     "output_type": "stream",
     "text": [
      "Passive      131\n",
      "Promoter     129\n",
      "Detractor     28\n",
      "Name: category, dtype: int64\n",
      "Promoter     137\n",
      "Passive      116\n",
      "Detractor     23\n",
      "Name: category, dtype: int64\n",
      "Promoter     135\n",
      "Passive       86\n",
      "Detractor     20\n",
      "Name: category, dtype: int64\n",
      "Promoter     100\n",
      "Passive       74\n",
      "Detractor     19\n",
      "Name: category, dtype: int64\n",
      "Promoter     97\n",
      "Passive      67\n",
      "Detractor    15\n",
      "Name: category, dtype: int64\n",
      "Promoter     77\n",
      "Passive      59\n",
      "Detractor     8\n",
      "Name: category, dtype: int64\n",
      "Promoter     78\n",
      "Passive      34\n",
      "Detractor     8\n",
      "Name: category, dtype: int64\n",
      "Promoter    7\n",
      "Passive     2\n",
      "Name: category, dtype: int64\n",
      "Promoter     760\n",
      "Passive      569\n",
      "Detractor    121\n",
      "Name: category, dtype: int64\n"
     ]
    },
    {
     "data": {
      "text/plain": [
       "<matplotlib.lines.Line2D at 0x12ce66bd0>"
      ]
     },
     "execution_count": 413,
     "metadata": {},
     "output_type": "execute_result"
    },
    {
     "data": {
      "image/png": "[encoded data removed]",
      "text/plain": [
       "<Figure size 432x288 with 1 Axes>"
      ]
     },
     "metadata": {
      "needs_background": "light"
     },
     "output_type": "display_data"
    }
   ],
   "source": [
    "fig, ax = plt.subplots()\n",
    "aggregate = df.groupby('week')['category'].agg(calculate_nps)\n",
    "ax.plot(aggregate)\n",
    "ax.axhline(calculate_nps(df['category']), color='g')\n"
   ]
  },
  {
   "cell_type": "markdown",
   "metadata": {},
   "source": [
    "### Answer--> Data shows it gets better"
   ]
  },
  {
   "cell_type": "markdown",
   "metadata": {},
   "source": [
    "#### What are things we could find here that could “help the business”?\n"
   ]
  },
  {
   "cell_type": "markdown",
   "metadata": {},
   "source": [
    "### Q. 5 Should VR track be brought back?"
   ]
  },
  {
   "cell_type": "code",
   "execution_count": 414,
   "metadata": {},
   "outputs": [
    {
     "data": {
      "text/plain": [
       "Apps               871\n",
       "Apps, Explorer     224\n",
       "Games              208\n",
       "VR                  60\n",
       "Games, Explorer     43\n",
       "Name: track, dtype: int64"
      ]
     },
     "execution_count": 414,
     "metadata": {},
     "output_type": "execute_result"
    }
   ],
   "source": [
    "df['track'].value_counts()\n"
   ]
  },
  {
   "cell_type": "code",
   "execution_count": 415,
   "metadata": {},
   "outputs": [
    {
     "data": {
      "text/html": [
       "<div>\n",
       "<style scoped>\n",
       "    .dataframe tbody tr th:only-of-type {\n",
       "        vertical-align: middle;\n",
       "    }\n",
       "\n",
       "    .dataframe tbody tr th {\n",
       "        vertical-align: top;\n",
       "    }\n",
       "\n",
       "    .dataframe thead th {\n",
       "        text-align: right;\n",
       "    }\n",
       "</style>\n",
       "<table border=\"1\" class=\"dataframe\">\n",
       "  <thead>\n",
       "    <tr style=\"text-align: right;\">\n",
       "      <th>category</th>\n",
       "      <th>Detractor</th>\n",
       "      <th>Passive</th>\n",
       "      <th>Promoter</th>\n",
       "    </tr>\n",
       "    <tr>\n",
       "      <th>track</th>\n",
       "      <th></th>\n",
       "      <th></th>\n",
       "      <th></th>\n",
       "    </tr>\n",
       "  </thead>\n",
       "  <tbody>\n",
       "    <tr>\n",
       "      <th>Apps</th>\n",
       "      <td>0.089552</td>\n",
       "      <td>0.407577</td>\n",
       "      <td>0.502870</td>\n",
       "    </tr>\n",
       "    <tr>\n",
       "      <th>Apps, Explorer</th>\n",
       "      <td>0.107143</td>\n",
       "      <td>0.486607</td>\n",
       "      <td>0.406250</td>\n",
       "    </tr>\n",
       "    <tr>\n",
       "      <th>Games</th>\n",
       "      <td>0.043269</td>\n",
       "      <td>0.317308</td>\n",
       "      <td>0.639423</td>\n",
       "    </tr>\n",
       "    <tr>\n",
       "      <th>Games, Explorer</th>\n",
       "      <td>0.000000</td>\n",
       "      <td>0.279070</td>\n",
       "      <td>0.720930</td>\n",
       "    </tr>\n",
       "    <tr>\n",
       "      <th>VR</th>\n",
       "      <td>0.033333</td>\n",
       "      <td>0.200000</td>\n",
       "      <td>0.766667</td>\n",
       "    </tr>\n",
       "  </tbody>\n",
       "</table>\n",
       "</div>"
      ],
      "text/plain": [
       "category         Detractor   Passive  Promoter\n",
       "track                                         \n",
       "Apps              0.089552  0.407577  0.502870\n",
       "Apps, Explorer    0.107143  0.486607  0.406250\n",
       "Games             0.043269  0.317308  0.639423\n",
       "Games, Explorer   0.000000  0.279070  0.720930\n",
       "VR                0.033333  0.200000  0.766667"
      ]
     },
     "execution_count": 415,
     "metadata": {},
     "output_type": "execute_result"
    }
   ],
   "source": [
    "pd.crosstab(df['track'], df['category'], normalize=\"index\")\n"
   ]
  },
  {
   "cell_type": "code",
   "execution_count": 416,
   "metadata": {},
   "outputs": [
    {
     "data": {
      "text/plain": [
       "Text(5, 12.3, 'Heat Map')"
      ]
     },
     "execution_count": 416,
     "metadata": {},
     "output_type": "execute_result"
    },
    {
     "data": {
      "image/png": "[encoded data removed]",
      "text/plain": [
       "<Figure size 720x720 with 2 Axes>"
      ]
     },
     "metadata": {
      "needs_background": "light"
     },
     "output_type": "display_data"
    }
   ],
   "source": [
    "fig, ax = plt.subplots(figsize=(10, 10))\n",
    "m = sns.heatmap(pd.crosstab(df['track'], df['category'], normalize='index'), cmap='coolwarm', annot=True, fmt=\".1f\",annot_kws={'size':17}, linewidths=.8, ax=ax)\n",
    "plt.title('track VS Category')\n",
    "plt.xlabel('Category')\n",
    "plt.ylabel('track')\n",
    "ax.set_ylim((0,15))\n",
    "plt.text(5,12.3, \"Heat Map\", fontsize = 95, color='Black', fontstyle='italic')\n"
   ]
  },
  {
   "cell_type": "markdown",
   "metadata": {},
   "source": [
    "#### Answer--> Yes, but more data could confirm our conclusion"
   ]
  },
  {
   "cell_type": "code",
   "execution_count": null,
   "metadata": {},
   "outputs": [],
   "source": []
  }
 ],
 "metadata": {
  "kernelspec": {
   "display_name": "Python 3",
   "language": "python",
   "name": "python3"
  },
  "language_info": {
   "codemirror_mode": {
    "name": "ipython",
    "version": 3
   },
   "file_extension": ".py",
   "mimetype": "text/x-python",
   "name": "python",
   "nbconvert_exporter": "python",
   "pygments_lexer": "ipython3",
   "version": "3.7.6"
  }
 },
 "nbformat": 4,
 "nbformat_minor": 2
}
